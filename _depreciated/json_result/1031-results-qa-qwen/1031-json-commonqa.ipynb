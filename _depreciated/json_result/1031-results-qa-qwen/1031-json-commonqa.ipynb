{
 "cells": [
  {
   "cell_type": "code",
   "execution_count": 1,
   "metadata": {},
   "outputs": [],
   "source": [
    "import ManageJson"
   ]
  },
  {
   "cell_type": "code",
   "execution_count": null,
   "metadata": {},
   "outputs": [
    {
     "name": "stdout",
     "output_type": "stream",
     "text": [
      "Replaced 'prompt' with 'prompt_wo' and saved to /home/wenhao/Project/greatxue/llm_uncer/logs/1030-commonqa-qwen-woo.json\n"
     ]
    }
   ],
   "source": [
    "in1 = \"/home/wenhao/Project/greatxue/llm_uncer/logs/1030-commonqa-qwen-wo.json\"\n",
    "in2 = \"/home/wenhao/Project/greatxue/llm_uncer/logs/1030-commonqa-qwen.json\"\n",
    "ou1 = \"/home/wenhao/Project/greatxue/llm_uncer/logs/1030-commonqa-qwen-woo.json\"\n",
    "manager = ManageJson.jsonManager(in1, ou1, in2)\n",
    "manager.replace_item_json()"
   ]
  },
  {
   "cell_type": "code",
   "execution_count": 5,
   "metadata": {},
   "outputs": [
    {
     "name": "stdout",
     "output_type": "stream",
     "text": [
      "Merged fields saved to /home/wenhao/Project/greatxue/llm_uncer/logs/1030-commonqa-mmmmmmm.json\n"
     ]
    }
   ],
   "source": [
    "in1 = \"/home/wenhao/Project/greatxue/llm_uncer/logs/1030-commonqa-qwen-woo.json\"\n",
    "in2 = \"/home/wenhao/Project/greatxue/llm_uncer/logs/1030-commonqa-qwen.json\"\n",
    "ou1 = \"/home/wenhao/Project/greatxue/llm_uncer/logs/1030-commonqa-mmmmmmm.json\"\n",
    "manager = ManageJson.jsonManager(in1, ou1, in2)\n",
    "manager.merge_json()"
   ]
  },
  {
   "cell_type": "code",
   "execution_count": 2,
   "metadata": {},
   "outputs": [
    {
     "name": "stdout",
     "output_type": "stream",
     "text": [
      "First item:\n",
      "Final Answer: 'A'\n",
      "Reference Answer: 'A'\n"
     ]
    }
   ],
   "source": [
    "# Void, then do it twice\n",
    "in1 = \"/home/wenhao/Project/greatxue/llm_uncer/logs/1030-commonqa-qwen-eval2.json\"\n",
    "ou1 = \"/home/wenhao/Project/greatxue/llm_uncer/logs/1030-commonqa-qwen-eval3.json\"\n",
    "in2 = None\n",
    "manager = ManageJson.jsonManager(in1, ou1, in2)\n",
    "manager.generate_json_result()"
   ]
  },
  {
   "cell_type": "code",
   "execution_count": 3,
   "metadata": {},
   "outputs": [
    {
     "name": "stdout",
     "output_type": "stream",
     "text": [
      "Total values for each combination:\n",
      "mark=1, mark_wo=0:\n",
      "  0\n",
      "  1\n",
      "  2\n",
      "  4\n",
      "  18\n",
      "  21\n",
      "  26\n",
      "  29\n",
      "  31\n",
      "  33\n",
      "  47\n",
      "  52\n",
      "  54\n",
      "  55\n",
      "  59\n",
      "  63\n",
      "  72\n",
      "  76\n",
      "  93\n",
      "  96\n",
      "  104\n",
      "  108\n",
      "  110\n",
      "  113\n",
      "  125\n",
      "  126\n",
      "  127\n",
      "  130\n",
      "  133\n",
      "  138\n",
      "  140\n",
      "  159\n",
      "  166\n",
      "  167\n",
      "  168\n",
      "  170\n",
      "  179\n",
      "  181\n",
      "  189\n",
      "  192\n",
      "  195\n",
      "mark=0, mark_wo=1:\n",
      "  10\n",
      "  20\n",
      "  24\n",
      "  30\n",
      "  45\n",
      "  58\n",
      "  91\n",
      "  121\n",
      "  134\n",
      "  135\n",
      "  145\n",
      "  194\n",
      "  197\n",
      "  198\n"
     ]
    }
   ],
   "source": [
    "in1 = \"/home/wenhao/Project/greatxue/llm_uncer/logs/1030-commonqa-qwen-eval3.json\"\n",
    "ou1 = None\n",
    "in2 = None\n",
    "manager = ManageJson.jsonManager(in1, ou1, in2)\n",
    "manager.list_json()"
   ]
  },
  {
   "cell_type": "code",
   "execution_count": 4,
   "metadata": {},
   "outputs": [
    {
     "name": "stdout",
     "output_type": "stream",
     "text": [
      "Combination counts:\n",
      "mark=1, mark_wo=0: 41\n",
      "mark=1, mark_wo=1: 110\n",
      "mark=0, mark_wo=0: 34\n",
      "mark=0, mark_wo=1: 14\n"
     ]
    }
   ],
   "source": [
    "manager.eval_json_result()"
   ]
  }
 ],
 "metadata": {
  "kernelspec": {
   "display_name": "llm_uncer",
   "language": "python",
   "name": "python3"
  },
  "language_info": {
   "codemirror_mode": {
    "name": "ipython",
    "version": 3
   },
   "file_extension": ".py",
   "mimetype": "text/x-python",
   "name": "python",
   "nbconvert_exporter": "python",
   "pygments_lexer": "ipython3",
   "version": "3.9.20"
  }
 },
 "nbformat": 4,
 "nbformat_minor": 2
}
