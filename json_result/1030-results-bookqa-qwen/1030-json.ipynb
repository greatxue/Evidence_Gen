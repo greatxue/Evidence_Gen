{
 "cells": [
  {
   "cell_type": "code",
   "execution_count": 1,
   "metadata": {},
   "outputs": [],
   "source": [
    "import ManageJson"
   ]
  },
  {
   "cell_type": "code",
   "execution_count": 2,
   "metadata": {},
   "outputs": [
    {
     "name": "stdout",
     "output_type": "stream",
     "text": [
      "Merged fields saved to /home/wenhao/Project/greatxue/llm_uncer/logs/1030-qwen-merged.json\n"
     ]
    }
   ],
   "source": [
    "in1 = \"/home/wenhao/Project/greatxue/llm_uncer/logs/1030-qwen.json\"\n",
    "in2 = \"/home/wenhao/Project/greatxue/llm_uncer/logs/1030-qwen-wo.json\"\n",
    "ou1 = \"/home/wenhao/Project/greatxue/llm_uncer/logs/1030-qwen-merged.json\"\n",
    "manager = ManageJson.jsonManager(in1, ou1, in2)\n",
    "manager.merge_json()"
   ]
  },
  {
   "cell_type": "code",
   "execution_count": 2,
   "metadata": {},
   "outputs": [
    {
     "name": "stdout",
     "output_type": "stream",
     "text": [
      "First item:\n",
      "Final Answer: ''\n",
      "Reference Answer: 'A'\n"
     ]
    }
   ],
   "source": [
    "# Void, then do it twice\n",
    "in1 = \"/home/wenhao/Project/greatxue/llm_uncer/logs/1030-qwen-eval1.json\"\n",
    "ou1 = \"/home/wenhao/Project/greatxue/llm_uncer/logs/1030-qwen-eval2.json\"\n",
    "in2 = None\n",
    "manager = ManageJson.jsonManager(in1, ou1, in2)\n",
    "manager.generate_json_result()"
   ]
  },
  {
   "cell_type": "code",
   "execution_count": null,
   "metadata": {},
   "outputs": [],
   "source": [
    "in1 = \"/home/wenhao/Project/greatxue/llm_uncer/logs/qwen_eval-2.json\"\n",
    "ou1 = None\n",
    "in2 = None\n",
    "manager = ManageJson.jsonManager(in1, ou1, in2)\n",
    "manager.list_json()"
   ]
  },
  {
   "cell_type": "code",
   "execution_count": null,
   "metadata": {},
   "outputs": [],
   "source": [
    "manager.eval_json_result()"
   ]
  }
 ],
 "metadata": {
  "kernelspec": {
   "display_name": "llm_uncer",
   "language": "python",
   "name": "python3"
  },
  "language_info": {
   "codemirror_mode": {
    "name": "ipython",
    "version": 3
   },
   "file_extension": ".py",
   "mimetype": "text/x-python",
   "name": "python",
   "nbconvert_exporter": "python",
   "pygments_lexer": "ipython3",
   "version": "3.9.20"
  }
 },
 "nbformat": 4,
 "nbformat_minor": 2
}
