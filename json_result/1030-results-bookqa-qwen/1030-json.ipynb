{
 "cells": [
  {
   "cell_type": "code",
   "execution_count": 1,
   "metadata": {},
   "outputs": [],
   "source": [
    "import ManageJson"
   ]
  },
  {
   "cell_type": "code",
   "execution_count": 2,
   "metadata": {},
   "outputs": [
    {
     "name": "stdout",
     "output_type": "stream",
     "text": [
      "Merged fields saved to /home/wenhao/Project/greatxue/llm_uncer/logs/1030-qwen-merged.json\n"
     ]
    }
   ],
   "source": [
    "in1 = \"/home/wenhao/Project/greatxue/llm_uncer/logs/1030-qwen.json\"\n",
    "in2 = \"/home/wenhao/Project/greatxue/llm_uncer/logs/1030-qwen-wo.json\"\n",
    "ou1 = \"/home/wenhao/Project/greatxue/llm_uncer/logs/1030-qwen-merged.json\"\n",
    "manager = ManageJson.jsonManager(in1, ou1, in2)\n",
    "manager.merge_json()"
   ]
  },
  {
   "cell_type": "code",
   "execution_count": null,
   "metadata": {},
   "outputs": [
    {
     "name": "stdout",
     "output_type": "stream",
     "text": [
      "First item:\n",
      "Final Answer: 'A'\n",
      "Reference Answer: 'A'\n"
     ]
    }
   ],
   "source": [
    "# Void, then do it twice\n",
    "in1 = \"/home/wenhao/Project/greatxue/llm_uncer/logs/1030-qwen-eval1.json\"\n",
    "ou1 = \"/home/wenhao/Project/greatxue/llm_uncer/logs/1030-qwen-eval2.json\"\n",
    "in2 = None\n",
    "manager = ManageJson.jsonManager(in1, ou1, in2)\n",
    "manager.generate_json_result()"
   ]
  },
  {
   "cell_type": "code",
   "execution_count": 3,
   "metadata": {},
   "outputs": [
    {
     "name": "stdout",
     "output_type": "stream",
     "text": [
      "Total values for each combination:\n",
      "mark=1, mark_wo=0:\n",
      "  0\n",
      "  3\n",
      "  7\n",
      "  10\n",
      "  18\n",
      "  22\n",
      "  25\n",
      "  27\n",
      "  29\n",
      "  30\n",
      "  31\n",
      "  34\n",
      "  41\n",
      "  42\n",
      "  45\n",
      "  46\n",
      "  48\n",
      "  51\n",
      "  53\n",
      "  61\n",
      "  66\n",
      "  70\n",
      "  73\n",
      "  79\n",
      "  81\n",
      "  87\n",
      "  89\n",
      "  92\n",
      "  95\n",
      "  100\n",
      "  102\n",
      "  104\n",
      "  105\n",
      "  107\n",
      "  112\n",
      "  113\n",
      "  114\n",
      "  116\n",
      "  117\n",
      "  121\n",
      "  123\n",
      "  131\n",
      "  134\n",
      "  135\n",
      "  137\n",
      "  138\n",
      "  151\n",
      "  152\n",
      "  153\n",
      "  156\n",
      "  159\n",
      "  171\n",
      "  174\n",
      "  175\n",
      "  178\n",
      "  179\n",
      "  181\n",
      "  185\n",
      "  191\n",
      "  193\n",
      "  195\n",
      "  197\n",
      "  199\n",
      "mark=0, mark_wo=1:\n",
      "  12\n",
      "  15\n",
      "  32\n",
      "  38\n",
      "  39\n",
      "  55\n",
      "  82\n",
      "  94\n",
      "  106\n",
      "  110\n",
      "  167\n",
      "  177\n",
      "  190\n",
      "  196\n"
     ]
    }
   ],
   "source": [
    "in1 = \"/home/wenhao/Project/greatxue/llm_uncer/logs/1030-qwen-eval2.json\"\n",
    "ou1 = None\n",
    "in2 = None\n",
    "manager = ManageJson.jsonManager(in1, ou1, in2)\n",
    "manager.list_json()"
   ]
  },
  {
   "cell_type": "code",
   "execution_count": 4,
   "metadata": {},
   "outputs": [
    {
     "name": "stdout",
     "output_type": "stream",
     "text": [
      "Combination counts:\n",
      "mark=1, mark_wo=0: 63\n",
      "mark=1, mark_wo=1: 84\n",
      "mark=0, mark_wo=1: 14\n",
      "mark=0, mark_wo=0: 39\n"
     ]
    }
   ],
   "source": [
    "manager.eval_json_result()"
   ]
  }
 ],
 "metadata": {
  "kernelspec": {
   "display_name": "llm_uncer",
   "language": "python",
   "name": "python3"
  },
  "language_info": {
   "codemirror_mode": {
    "name": "ipython",
    "version": 3
   },
   "file_extension": ".py",
   "mimetype": "text/x-python",
   "name": "python",
   "nbconvert_exporter": "python",
   "pygments_lexer": "ipython3",
   "version": "3.9.20"
  }
 },
 "nbformat": 4,
 "nbformat_minor": 2
}
