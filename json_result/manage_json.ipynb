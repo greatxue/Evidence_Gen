{
 "cells": [
  {
   "cell_type": "code",
   "execution_count": 1,
   "metadata": {},
   "outputs": [],
   "source": [
    "import ManageJson"
   ]
  },
  {
   "cell_type": "code",
   "execution_count": null,
   "metadata": {},
   "outputs": [],
   "source": [
    "in1 = \"/home/wenhao/Project/greatxue/llm_uncer/logs/qwen_wo.json\"\n",
    "in2 = \"/home/wenhao/Project/greatxue/llm_uncer/logs/qwen.json\"\n",
    "ou1 = \"/home/wenhao/Project/greatxue/llm_uncer/logs/qwen_merged.json\"\n",
    "manager = ManageJson.jsonManager(in1, ou1, in2)\n",
    "manager.merge_json()"
   ]
  },
  {
   "cell_type": "code",
   "execution_count": 2,
   "metadata": {},
   "outputs": [
    {
     "name": "stdout",
     "output_type": "stream",
     "text": [
      "First item:\n",
      "Final Answer: 'A'\n",
      "Reference Answer: 'A'\n"
     ]
    }
   ],
   "source": [
    "# Void, then do it twice\n",
    "in1 = \"/home/wenhao/Project/greatxue/llm_uncer/logs/qwen_eval.json\"\n",
    "ou1 = \"/home/wenhao/Project/greatxue/llm_uncer/logs/qwen_eval-2.json\"\n",
    "in2 = None\n",
    "manager = ManageJson.jsonManager(in1, ou1, in2)\n",
    "manager.generate_json_result()"
   ]
  },
  {
   "cell_type": "code",
   "execution_count": 5,
   "metadata": {},
   "outputs": [
    {
     "name": "stdout",
     "output_type": "stream",
     "text": [
      "Total values for each combination:\n",
      "mark=1, mark_wo=0:\n",
      "  39\n",
      "  52\n",
      "  97\n",
      "  102\n",
      "  112\n",
      "  114\n",
      "  121\n",
      "  122\n",
      "  126\n",
      "  152\n",
      "  165\n",
      "  190\n",
      "mark=0, mark_wo=1:\n",
      "  9\n",
      "  25\n",
      "  31\n",
      "  32\n",
      "  42\n",
      "  46\n",
      "  58\n",
      "  68\n",
      "  71\n",
      "  78\n",
      "  85\n",
      "  91\n",
      "  105\n",
      "  109\n",
      "  127\n",
      "  129\n",
      "  132\n",
      "  138\n",
      "  148\n",
      "  149\n",
      "  175\n",
      "  178\n",
      "  188\n",
      "  189\n",
      "  191\n",
      "  193\n",
      "  199\n"
     ]
    }
   ],
   "source": [
    "in1 = \"/home/wenhao/Project/greatxue/llm_uncer/logs/qwen_eval-2.json\"\n",
    "ou1 = None\n",
    "in2 = None\n",
    "manager = ManageJson.jsonManager(in1, ou1, in2)\n",
    "manager.list_json()"
   ]
  },
  {
   "cell_type": "code",
   "execution_count": 6,
   "metadata": {},
   "outputs": [
    {
     "name": "stdout",
     "output_type": "stream",
     "text": [
      "Combination counts:\n",
      "mark=1, mark_wo=1: 122\n",
      "mark=0, mark_wo=0: 39\n",
      "mark=0, mark_wo=1: 27\n",
      "mark=1, mark_wo=0: 12\n"
     ]
    }
   ],
   "source": [
    "manager.eval_json_result()"
   ]
  }
 ],
 "metadata": {
  "kernelspec": {
   "display_name": "llm_uncer",
   "language": "python",
   "name": "python3"
  },
  "language_info": {
   "codemirror_mode": {
    "name": "ipython",
    "version": 3
   },
   "file_extension": ".py",
   "mimetype": "text/x-python",
   "name": "python",
   "nbconvert_exporter": "python",
   "pygments_lexer": "ipython3",
   "version": "3.9.20"
  }
 },
 "nbformat": 4,
 "nbformat_minor": 2
}
