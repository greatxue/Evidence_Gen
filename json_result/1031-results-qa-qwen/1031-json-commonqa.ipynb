{
 "cells": [
  {
   "cell_type": "code",
   "execution_count": 7,
   "metadata": {},
   "outputs": [],
   "source": [
    "import ManageJson"
   ]
  },
  {
   "cell_type": "code",
   "execution_count": null,
   "metadata": {},
   "outputs": [
    {
     "name": "stdout",
     "output_type": "stream",
     "text": [
      "Replaced 'prompt' with 'prompt_wo' and saved to /home/wenhao/Project/greatxue/llm_uncer/logs/1030-commonqa-qwen-woo.json\n"
     ]
    }
   ],
   "source": [
    "in1 = \"/home/wenhao/Project/greatxue/llm_uncer/logs/1030-commonqa-qwen-wo.json\"\n",
    "in2 = \"/home/wenhao/Project/greatxue/llm_uncer/logs/1030-commonqa-qwen.json\"\n",
    "ou1 = \"/home/wenhao/Project/greatxue/llm_uncer/logs/1030-commonqa-qwen-woo.json\"\n",
    "manager = ManageJson.jsonManager(in1, ou1, in2)\n",
    "manager.replace_item_json()"
   ]
  },
  {
   "cell_type": "code",
   "execution_count": 5,
   "metadata": {},
   "outputs": [
    {
     "name": "stdout",
     "output_type": "stream",
     "text": [
      "Merged fields saved to /home/wenhao/Project/greatxue/llm_uncer/logs/1030-commonqa-mmmmmmm.json\n"
     ]
    }
   ],
   "source": [
    "in1 = \"/home/wenhao/Project/greatxue/llm_uncer/logs/1030-commonqa-qwen-woo.json\"\n",
    "in2 = \"/home/wenhao/Project/greatxue/llm_uncer/logs/1030-commonqa-qwen.json\"\n",
    "ou1 = \"/home/wenhao/Project/greatxue/llm_uncer/logs/1030-commonqa-mmmmmmm.json\"\n",
    "manager = ManageJson.jsonManager(in1, ou1, in2)\n",
    "manager.merge_json()"
   ]
  },
  {
   "cell_type": "code",
   "execution_count": 8,
   "metadata": {},
   "outputs": [
    {
     "name": "stdout",
     "output_type": "stream",
     "text": [
      "First item:\n",
      "Final Answer: 'D'\n",
      "Reference Answer: 'A'\n"
     ]
    }
   ],
   "source": [
    "# Void, then do it twice\n",
    "in1 = \"/home/wenhao/Project/greatxue/llm_uncer/logs/1030-commonqa-qwen-eval.json\"\n",
    "ou1 = \"/home/wenhao/Project/greatxue/llm_uncer/logs/1030-commonqa-qwen-eval2.json\"\n",
    "in2 = None\n",
    "manager = ManageJson.jsonManager(in1, ou1, in2)\n",
    "manager.generate_json_result()"
   ]
  },
  {
   "cell_type": "code",
   "execution_count": 5,
   "metadata": {},
   "outputs": [
    {
     "name": "stdout",
     "output_type": "stream",
     "text": [
      "Total values for each combination:\n",
      "mark=1, mark_wo=0:\n",
      "mark=0, mark_wo=1:\n"
     ]
    }
   ],
   "source": [
    "in1 = \"/home/wenhao/Project/greatxue/llm_uncer/logs/1030-commonqa-qwen-eval2.json\"\n",
    "ou1 = None\n",
    "in2 = None\n",
    "manager = ManageJson.jsonManager(in1, ou1, in2)\n",
    "manager.list_json()"
   ]
  },
  {
   "cell_type": "code",
   "execution_count": 4,
   "metadata": {},
   "outputs": [
    {
     "name": "stdout",
     "output_type": "stream",
     "text": [
      "Combination counts:\n",
      "mark=1, mark_wo=0: 63\n",
      "mark=1, mark_wo=1: 84\n",
      "mark=0, mark_wo=1: 14\n",
      "mark=0, mark_wo=0: 39\n"
     ]
    }
   ],
   "source": [
    "manager.eval_json_result()"
   ]
  }
 ],
 "metadata": {
  "kernelspec": {
   "display_name": "llm_uncer",
   "language": "python",
   "name": "python3"
  },
  "language_info": {
   "codemirror_mode": {
    "name": "ipython",
    "version": 3
   },
   "file_extension": ".py",
   "mimetype": "text/x-python",
   "name": "python",
   "nbconvert_exporter": "python",
   "pygments_lexer": "ipython3",
   "version": "3.9.20"
  }
 },
 "nbformat": 4,
 "nbformat_minor": 2
}
